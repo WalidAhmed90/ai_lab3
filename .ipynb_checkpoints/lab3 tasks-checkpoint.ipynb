{
 "cells": [
  {
   "cell_type": "code",
   "execution_count": null,
   "metadata": {
    "collapsed": false
   },
   "outputs": [],
   "source": [
    "even = False\n",
    "l = [1,2,3,4,5]\n",
    "for i in l:\n",
    "    if i%2 == 0:\n",
    "        even=True\n",
    "        break\n",
    "    \n",
    "if even==True:\n",
    "        print(\"yes there is even numbers in the list\")\n",
    "else:\n",
    "        print(\"NO there is no even numbers in the list\")"
   ]
  },
  {
   "cell_type": "code",
   "execution_count": 4,
   "metadata": {
    "collapsed": false
   },
   "outputs": [
    {
     "name": "stdout",
     "output_type": "stream",
     "text": [
      "enter value 4\n",
      "enter position 5\n",
      "[1, 2, 3, 4, 5, 4, 6, 7, 8]\n",
      "do you want to continue?? yes or no :yes\n",
      "enter value 3\n",
      "enter position 6\n",
      "[1, 2, 3, 4, 5, 4, 3, 6, 7, 8]\n",
      "do you want to continue?? yes or no :no\n"
     ]
    }
   ],
   "source": [
    "l = [1,2,3,4,5,6,7,8]\n",
    "n=1\n",
    "while (n==1):\n",
    "    i = int(input(\"enter value \"))\n",
    "    j = int(input(\"enter position \"))\n",
    "    l.insert(j,i)\n",
    "    print(l)\n",
    "    inp = input(\"do you want to continue?? yes or no :\")\n",
    "    if(inp == \"no\"):\n",
    "        break"
   ]
  },
  {
   "cell_type": "code",
   "execution_count": 5,
   "metadata": {
    "collapsed": false
   },
   "outputs": [
    {
     "name": "stdout",
     "output_type": "stream",
     "text": [
      "12\n"
     ]
    }
   ],
   "source": [
    "d = {}\n",
    "d['apple'] = 5\n",
    "d['oranges'] = 4\n",
    "d['banana'] = 3\n",
    "print(sum(d.values()))\n",
    "\n",
    "    "
   ]
  },
  {
   "cell_type": "code",
   "execution_count": 24,
   "metadata": {
    "collapsed": false
   },
   "outputs": [
    {
     "name": "stdout",
     "output_type": "stream",
     "text": [
      "enter the lenghth4\n",
      "{1: 1.0, 2: 1.4142135623730951, 3: 1.7320508075688772}\n"
     ]
    }
   ],
   "source": [
    "import math\n",
    "usr = int(input(\"enter the lenghth\"))\n",
    "i=1\n",
    "l={}\n",
    "for i in range(1,usr) : \n",
    "    l [i]= math.sqrt(i)\n",
    "print(l)"
   ]
  },
  {
   "cell_type": "code",
   "execution_count": 25,
   "metadata": {
    "collapsed": false
   },
   "outputs": [
    {
     "name": "stdout",
     "output_type": "stream",
     "text": [
      "enter the lenghth4\n",
      "{1: 1, 2: 4, 3: 9}\n"
     ]
    }
   ],
   "source": [
    "usr = int(input(\"enter the lenghth\"))\n",
    "i=1\n",
    "l={}\n",
    "for i in range(1,usr) : \n",
    "    l [i]= i*i\n",
    "print(l)"
   ]
  }
 ],
 "metadata": {
  "anaconda-cloud": {},
  "kernelspec": {
   "display_name": "Python [Root]",
   "language": "python",
   "name": "Python [Root]"
  },
  "language_info": {
   "codemirror_mode": {
    "name": "ipython",
    "version": 3
   },
   "file_extension": ".py",
   "mimetype": "text/x-python",
   "name": "python",
   "nbconvert_exporter": "python",
   "pygments_lexer": "ipython3",
   "version": "3.5.2"
  }
 },
 "nbformat": 4,
 "nbformat_minor": 0
}
